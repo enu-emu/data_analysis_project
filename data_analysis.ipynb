{
 "cells": [
  {
   "cell_type": "code",
   "execution_count": null,
   "id": "47afd9f7-c40c-411a-a474-194135720c71",
   "metadata": {},
   "outputs": [],
   "source": [
    "import pandas as pd\n",
    "\n",
    "# Load the dataset\n",
    "data = pd.read_csv(\"Border_Crossing_Entry_Data.csv\")\n",
    "\n",
    "# Preview the first few rows of data\n",
    "data.head()"
   ]
  },
  {
   "cell_type": "code",
   "execution_count": null,
   "id": "bdd64008-1eb9-42df-8c06-9d00a2a11ea0",
   "metadata": {},
   "outputs": [],
   "source": [
    "# Get a summary of the data\n",
    "data.info()"
   ]
  },
  {
   "cell_type": "code",
   "execution_count": null,
   "id": "fec710a6-0edc-4e25-a159-a7454071ba9b",
   "metadata": {},
   "outputs": [],
   "source": [
    "# Get Summary Statistics\n",
    "\n",
    "data.describe()"
   ]
  },
  {
   "cell_type": "code",
   "execution_count": null,
   "id": "b97886c4-c7e9-4270-a3f5-05e09bfc38df",
   "metadata": {},
   "outputs": [],
   "source": [
    "# Check for missing values\n",
    "\n",
    "data.isnull().sum()"
   ]
  },
  {
   "cell_type": "code",
   "execution_count": null,
   "id": "77b9bbd4-2be4-4496-9f53-f2b6fe2d22b6",
   "metadata": {},
   "outputs": [],
   "source": [
    "import matplotlib.pyplot as plt\n",
    "import seaborn as sns\n",
    "\n",
    "# Set the figure size to make the plot larger\n",
    "plt.figure(figsize=(12, 8))\n",
    "\n",
    "# Create the countplot with 'hue' set to the same variable as 'x'\n",
    "plot = sns.countplot(data=data, x='Measure', hue='Measure', palette='viridis', legend=False)\n",
    "\n",
    "# Rotate the x-axis labels and increase the spacing\n",
    "plt.xticks(rotation=45, ha='right')\n",
    "\n",
    "# Add the title\n",
    "plt.title(\"Number of Entries by Mode of Transport\", fontsize=16)\n",
    "\n",
    "# Add the actual numbers on top of the bars\n",
    "for p in plot.patches:\n",
    "    plot.annotate(format(p.get_height(), ',.0f'),  # Format for float values as integer\n",
    "                  (p.get_x() + p.get_width() / 2., p.get_height()),\n",
    "                  ha='center', va='center',\n",
    "                  xytext=(0, 10), textcoords='offset points', fontsize=10)\n",
    "\n",
    "# Show the plot\n",
    "plt.show()\n",
    "\n"
   ]
  },
  {
   "cell_type": "code",
   "execution_count": null,
   "id": "e8990ca4-e24f-44b8-8204-a8c3d94e50a2",
   "metadata": {},
   "outputs": [],
   "source": []
  }
 ],
 "metadata": {
  "kernelspec": {
   "display_name": "Python 3 (ipykernel)",
   "language": "python",
   "name": "python3"
  },
  "language_info": {
   "codemirror_mode": {
    "name": "ipython",
    "version": 3
   },
   "file_extension": ".py",
   "mimetype": "text/x-python",
   "name": "python",
   "nbconvert_exporter": "python",
   "pygments_lexer": "ipython3",
   "version": "3.12.4"
  }
 },
 "nbformat": 4,
 "nbformat_minor": 5
}
